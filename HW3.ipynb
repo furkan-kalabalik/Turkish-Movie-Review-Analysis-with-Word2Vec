{
 "cells": [
  {
   "cell_type": "code",
   "execution_count": 78,
   "metadata": {},
   "outputs": [],
   "source": [
    "import sys\n",
    "sys.path.append('/usr/local/lib/python3.9/site-packages') #Path to libraries in case of no module error\n",
    "from gensim.models import KeyedVectors\n",
    "import pandas as pd\n",
    "import numpy as np\n",
    "import string\n",
    "import string\n",
    "import csv\n",
    "from sklearn.naive_bayes import MultinomialNB\n",
    "from sklearn.naive_bayes import GaussianNB\n",
    "from sklearn.preprocessing import MinMaxScaler\n",
    "import sklearn.metrics\n",
    "from sklearn.preprocessing import KBinsDiscretizer\n",
    "import matplotlib.pyplot as plt "
   ]
  },
  {
   "cell_type": "markdown",
   "metadata": {},
   "source": [
    "# First, load wikipedia dump and preprocess text\n",
    "First we take wikipedia dump and we process that corpus. We remove punctuation and we lowercase all words. For our purpose, we delete all words that length less than three.\n",
    "Than we save new processed text to trwiki_clean file to use it later."
   ]
  },
  {
   "cell_type": "code",
   "execution_count": 11,
   "metadata": {},
   "outputs": [],
   "source": [
    "# load text\n",
    "filename = 'trwiki'\n",
    "file = open(filename, 'rt', encoding='utf-8', errors='ignore')\n",
    "text = file.read()\n",
    "file.close()\n",
    "words = text.split()\n",
    "\n",
    "# remove punctuation, empty spaces and words that has length less than 3 and lower all characters\n",
    "punct = str.maketrans('', '', string.punctuation)\n",
    "removed = [word.translate(punct) for word in words]\n",
    "words = [word for word in removed if len(word) > 3]\n",
    "words = [word.lower() for word in words]\n",
    "\n",
    "filename = 'trwiki_clean'\n",
    "file = open(filename, 'w+', encoding='utf-8')\n",
    "for word in words:\n",
    "    file.write(word+' ')\n",
    "file.close()"
   ]
  },
  {
   "cell_type": "markdown",
   "metadata": {},
   "source": [
    "# Adding train and test files to big corpus\n",
    "Than we add train and test data to one big corpus. When we train our vectors for classification, we use this big corpus, while doing word2vec vectorization."
   ]
  },
  {
   "cell_type": "code",
   "execution_count": 12,
   "metadata": {},
   "outputs": [],
   "source": [
    "# read train file\n",
    "reader = csv.DictReader(open('train.csv', 'r', encoding='ISO 8859-9', errors='ignore'))\n",
    "sentences = []\n",
    "for sample in reader:\n",
    "    sentences.append(sample['comment'])\n",
    "# make comments to one big corpus    \n",
    "text = ' '.join(sentences)\n",
    "text = text.replace('.', '. ', text.count('.')).replace(',', ', ', text.count(',')).replace(':', ': ', text.count(':'))\n",
    "words = text.split()\n",
    "\n",
    "# remove punctuation, empty spaces and words that has length less than 3 and lower all characters\n",
    "punct = str.maketrans('', '', string.punctuation)\n",
    "removed = [word.translate(punct) for word in words]\n",
    "words = [word for word in removed if len(word) > 3]\n",
    "words = [word.lower() for word in words]\n",
    "# append train corpus to total corpus\n",
    "filename = 'trwiki_clean'\n",
    "file = open(filename, 'a+', encoding='utf-8', errors='ignore')\n",
    "for word in words:\n",
    "    file.write(word+' ')\n",
    "file.close()\n",
    "\n",
    "# read test file\n",
    "reader = csv.DictReader(open('test.csv', 'r', encoding='ISO 8859-9', errors='ignore'))\n",
    "sentences = []\n",
    "for sample in reader:\n",
    "    sentences.append(sample['comment'])\n",
    "# make comments to one big corpus    \n",
    "text = ' '.join(sentences)\n",
    "text = text.replace('.', '. ', text.count('.')).replace(',', ', ', text.count(',')).replace(':', ': ', text.count(':'))\n",
    "words = text.split()\n",
    "\n",
    "\n",
    "# remove punctuation, empty spaces and words that has length less than 3 and lower all characters\n",
    "punct = str.maketrans('', '', string.punctuation)\n",
    "removed = [word.translate(punct) for word in words]\n",
    "words = [word for word in removed if len(word) > 3]\n",
    "words = [word.lower() for word in words]\n",
    "filename = 'trwiki_clean'\n",
    "file = open(filename, 'a+', encoding='utf-8', errors='ignore')\n",
    "for word in words:\n",
    "    file.write(word+' ')\n",
    "file.close()"
   ]
  },
  {
   "cell_type": "markdown",
   "metadata": {},
   "source": [
    "### After that preprocessing we have a corpus that has our wikipedia dump, train set and test set\n",
    "Now, we can use word2vec to get vectors of words to use it in naive bayes classifier. From there, we go to C code of **Word2Vec** downloaded from https://github.com/tmikolov/word2vec, then we build that code and we give our corpus to that program as parameter. Than we run it as follows:\n",
    "\n",
    "`./word2vec -min-count 1 -train trwiki_clean -output vectors -save-vocab vocab -size 300`\n",
    "\n",
    "After that we have 300 dimensional size vector for every word and it is save in `vectors` file. Now we can load vectors into python code and start classifying."
   ]
  },
  {
   "cell_type": "code",
   "execution_count": 13,
   "metadata": {},
   "outputs": [],
   "source": [
    "# import word2vec model\n",
    "model = KeyedVectors.load_word2vec_format('vectors', binary=False)"
   ]
  },
  {
   "cell_type": "markdown",
   "metadata": {},
   "source": [
    "## Than we run some similarity tests to show vectors are fine."
   ]
  },
  {
   "cell_type": "code",
   "execution_count": 71,
   "metadata": {},
   "outputs": [
    {
     "data": {
      "text/plain": [
       "[('aktör', 0.5896717309951782),\n",
       " ('oyuncudur', 0.5839625597000122),\n",
       " ('oyuncusu', 0.5812033414840698),\n",
       " ('oyuncular', 0.5717649459838867),\n",
       " ('oyuncunun', 0.5309138894081116),\n",
       " ('aktris', 0.5197291970252991),\n",
       " ('akalmar', 0.5161633491516113),\n",
       " ('oyunculardan', 0.49662989377975464),\n",
       " ('yovoviç', 0.4713529944419861),\n",
       " ('oyunucu', 0.46616968512535095)]"
      ]
     },
     "execution_count": 71,
     "metadata": {},
     "output_type": "execute_result"
    }
   ],
   "source": [
    "model.most_similar('oyuncu')"
   ]
  },
  {
   "cell_type": "code",
   "execution_count": 16,
   "metadata": {},
   "outputs": [
    {
     "data": {
      "text/plain": [
       "[('kralın', 0.5178984999656677),\n",
       " ('kraliçe', 0.5150195360183716),\n",
       " ('kralı', 0.47850877046585083),\n",
       " ('krala', 0.44080325961112976),\n",
       " ('kraliçenin', 0.4322437644004822),\n",
       " ('prens', 0.43116503953933716),\n",
       " ('kraliçesi', 0.4261987805366516),\n",
       " ('kraliçeyi', 0.40540170669555664),\n",
       " ('prensin', 0.3856278657913208),\n",
       " ('satrap', 0.3827993869781494)]"
      ]
     },
     "execution_count": 16,
     "metadata": {},
     "output_type": "execute_result"
    }
   ],
   "source": [
    "model.most_similar(positive=['kadın', 'kral'], negative=['erkek'])"
   ]
  },
  {
   "cell_type": "markdown",
   "metadata": {},
   "source": [
    "## Creating feature vectors for comments\n",
    "Our dataset consist of comments with label data. Every comment consist of words. To derive vector feature for per comment, we can consider word vectors. There are many methods to derive a sentence's vector. These are maximum of elementwise every word vector that create sentence. Other is elementwise minimum and the last one average of word vectors. In this project, I used elementwise maximum.\n",
    "\n",
    "First, we read train file and strip comments from train file. Than we process every comment as we do preprocessing of text chapter. After that, we look every word vector presentation of word from word2vec model, then for every comment we end up with one feature vector that elementwise maximum of word vector that create comment. These vectors have same dimension with word vectors and these all appended to a one big feature matrix to give classifier as input.\n",
    "\n",
    "We do same operation on test set. Then we have train and test vectors, also labels have already in correct form that we can process by classifier."
   ]
  },
  {
   "cell_type": "code",
   "execution_count": 18,
   "metadata": {},
   "outputs": [],
   "source": [
    "# open train file\n",
    "file = open('train.csv', 'r', encoding='ISO 8859-9', errors='ignore')\n",
    "train_data = pd.read_csv(file)\n",
    "\n",
    "# get train data, preprocess comments and labels\n",
    "train_corpus = []\n",
    "train_sentence_label = []\n",
    "for index in range(len(train_data['comment'])):\n",
    "    comment = train_data['comment'][index]\n",
    "    comment = comment.replace('.', '. ', comment.count('.')).replace(',', ', ', comment.count(',')).replace(':', ': ', comment.count(':'))\n",
    "    words = comment.split()\n",
    "    punct = str.maketrans('', '', string.punctuation)\n",
    "    removed = [word.translate(punct) for word in words]\n",
    "    words = [word for word in removed if len(word) > 3]\n",
    "    words = [word.lower() for word in words]\n",
    "    if(words != []):\n",
    "        train_corpus.append(words)\n",
    "        train_sentence_label.append(train_data['Label'][index])\n",
    "\n",
    "# convert every sentence to one feature vector with same dimension of word\n",
    "# add every sentence vector to one big feature matrix. Every row is a senctence vector.\n",
    "train_sentences_vec = []\n",
    "for sentence in train_corpus:\n",
    "    temp = model[sentence[0]]\n",
    "    for word in sentence:\n",
    "        temp = np.maximum(temp, model[word])\n",
    "    train_sentences_vec.append(temp)     \n",
    "\n",
    "# open test file\n",
    "file = open('test.csv', 'r', encoding='ISO 8859-9', errors='ignore')\n",
    "test_data = pd.read_csv(file)\n",
    "\n",
    "# get test data, preprocess comments and labels\n",
    "test_corpus = []\n",
    "test_sentence_label = []\n",
    "for index in range(len(test_data['comment'])):\n",
    "    comment = test_data['comment'][index]\n",
    "    comment = comment.replace('.', '. ', comment.count('.')).replace(',', ', ', comment.count(',')).replace(':', ': ', comment.count(':'))\n",
    "    words = comment.split()\n",
    "    punct = str.maketrans('', '', string.punctuation)\n",
    "    removed = [word.translate(punct) for word in words]\n",
    "    words = [word for word in removed if len(word) > 3]\n",
    "    words = [word.lower() for word in words]\n",
    "    if(words != []):\n",
    "        test_corpus.append(words)\n",
    "        test_sentence_label.append(test_data['Label'][index])\n",
    "\n",
    "# convert every sentence to one feature vector with same dimension of word\n",
    "# add every sentence vector to one big feture matrix. Every row is a senctence vector.\n",
    "test_sentences_vec = []\n",
    "for sentence in test_corpus:\n",
    "    temp = model[sentence[0]]\n",
    "    for word in sentence:\n",
    "        temp = np.maximum(temp, model[word])\n",
    "    test_sentences_vec.append(temp)\n",
    "\n",
    "# convert every feature matrix to proper 2d numpy array\n",
    "train_set = np.empty((0, 300), float)\n",
    "for vector in train_sentences_vec:\n",
    "    train_set = np.append(train_set, np.reshape(vector,(-1,300)), axis=0)\n",
    "test_set = np.empty((0, 300), float)\n",
    "for vector in test_sentences_vec:\n",
    "    test_set = np.append(test_set, np.reshape(vector,(-1,300)), axis=0)\n",
    "#convert label arrays to numpy array\n",
    "train_label = np.array(train_sentence_label)\n",
    "test_label = np.array(test_sentence_label)"
   ]
  },
  {
   "cell_type": "markdown",
   "metadata": {},
   "source": [
    "## Now, we can pass to classification stage.\n"
   ]
  },
  {
   "cell_type": "code",
   "execution_count": 19,
   "metadata": {},
   "outputs": [],
   "source": [
    "from sklearn.naive_bayes import MultinomialNB\n",
    "from sklearn.naive_bayes import GaussianNB\n",
    "from sklearn.preprocessing import MinMaxScaler\n",
    "import sklearn.metrics\n",
    "from sklearn.preprocessing import KBinsDiscretizer"
   ]
  },
  {
   "cell_type": "markdown",
   "metadata": {},
   "source": [
    "## Naive Bayes\n",
    "In this project we used naive bayes classifiers. Naive bayes classifier assumes that features are independent from other features. Base of this classifier is bayes theorem. The \"naive\" comes from this assumption of independence.\n",
    "\n",
    "We have features for our documents these are vectors and they constitute our train set to NB classifier. We have finite set of label that associated with every vector that we use in training step.\n",
    "\n",
    "Naive bayes classifiers have many implementetion according to input data. Here, we have word2vec vectors and these are continuous data. They have negative and poisitive, floating point numbers inside. From there we have different approaches:\n",
    "\n",
    "1.We may assume values creates a normal(Gaussian) probability distribution and we can use Gaussian NB classifier. Gaussian NB classifier can deal with continuous and negative values of features.\n",
    "2.We can use discretize method to have discrete features in our comment vectors then we can use Multinomial NB classifier. Multinomial NB can deal with discrete values but not like Bernoulli NB, which only deal with binary values, it can deal with varying number of inputs.\n",
    "\n",
    "We used sklearn library to fit and train these NB classifiers. \n",
    "Calculation methods are explained in report file."
   ]
  },
  {
   "cell_type": "markdown",
   "metadata": {},
   "source": [
    "### Gaussian NB"
   ]
  },
  {
   "cell_type": "code",
   "execution_count": 91,
   "metadata": {},
   "outputs": [],
   "source": [
    "# create a gaussian naive bayes classifier and train.\n",
    "gnb = GaussianNB()\n",
    "labeled_gnb = gnb.fit(train_set, train_label).predict(test_set)"
   ]
  },
  {
   "cell_type": "code",
   "execution_count": 92,
   "metadata": {},
   "outputs": [
    {
     "name": "stdout",
     "output_type": "stream",
     "text": [
      "Mislabeled comment number is 908 in total 2665 comment and accuracy of Gaussian NB classifier 0.66\n"
     ]
    }
   ],
   "source": [
    "print(\"Mislabeled comment number is {} in total {} comment and accuracy of Gaussian NB classifier {:.2f}\".format(\n",
    "    (test_label != labeled_gnb).sum(), test_set.shape[0], sklearn.metrics.accuracy_score(test_label, labeled_gnb)))"
   ]
  },
  {
   "cell_type": "code",
   "execution_count": 93,
   "metadata": {},
   "outputs": [
    {
     "name": "stdout",
     "output_type": "stream",
     "text": [
      "Probability of given sentence is negative comment 0.00041669791017453107\n",
      "Probability of given sentence is positive comment 0.9995833020898278\n",
      "Given sentence is a positive comment\n"
     ]
    }
   ],
   "source": [
    "# preprocess given sentence sample\n",
    "comment = 'kelimenin tam anlamıyla başyapıt bir film.'\n",
    "comment = comment.replace('.', '. ', comment.count('.')).replace(',', ', ', comment.count(',')).replace(':', ': ', comment.count(':'))\n",
    "words = comment.split()\n",
    "punct = str.maketrans('', '', string.punctuation)\n",
    "removed = [word.translate(punct) for word in words]\n",
    "words = [word for word in removed if len(word) > 3]\n",
    "words = [word.lower() for word in words]\n",
    "vector = model[words[0]]\n",
    "for word in words:\n",
    "    vector = np.maximum(vector, model[word])\n",
    "    \n",
    "# convert sentence to proper 2d numpy array and predict\n",
    "np_vector = np.empty((0, 300), float)\n",
    "np_vector = np.append(np_vector, np.reshape(vector,(-1,300)), axis=0)\n",
    "print(\"Probability of given sentence is negative comment {}\".format(gnb.predict_proba(np_vector)[0,0]))\n",
    "print(\"Probability of given sentence is positive comment {}\".format(gnb.predict_proba(np_vector)[0,1]))\n",
    "if(gnb.predict_proba(np_vector)[0,0] > gnb.predict_proba(np_vector)[0,1]):\n",
    "    print(\"Given sentence is a negative comment\")\n",
    "else:\n",
    "    print(\"Given sentence is a positive comment\")"
   ]
  },
  {
   "cell_type": "markdown",
   "metadata": {},
   "source": [
    "### Multinomial NB"
   ]
  },
  {
   "cell_type": "code",
   "execution_count": 94,
   "metadata": {},
   "outputs": [],
   "source": [
    "# create a multinomial naive bayes classifier and train.\n",
    "discretizer = KBinsDiscretizer(n_bins=30, encode='ordinal', strategy='uniform')\n",
    "train_set_discrete = discretizer.fit_transform(train_set)\n",
    "test_set_discrete = discretizer.fit_transform(test_set)\n",
    "mnb = MultinomialNB()\n",
    "labeled_mnb = mnb.fit(train_set_discrete, train_label).predict(test_set_discrete)"
   ]
  },
  {
   "cell_type": "code",
   "execution_count": 95,
   "metadata": {},
   "outputs": [
    {
     "name": "stdout",
     "output_type": "stream",
     "text": [
      "Mislabeled comment number is 845 in total 2665 comment and accuracy of Multinomial NB classifier 0.68\n"
     ]
    }
   ],
   "source": [
    "print(\"Mislabeled comment number is {} in total {} comment and accuracy of Multinomial NB classifier {:.2f}\".format(\n",
    "    (test_label != labeled_mnb).sum(), test_set.shape[0], sklearn.metrics.accuracy_score(test_label, labeled_mnb)))"
   ]
  },
  {
   "cell_type": "code",
   "execution_count": 96,
   "metadata": {},
   "outputs": [
    {
     "name": "stdout",
     "output_type": "stream",
     "text": [
      "Probability of given sentence is negative comment 0.2165894736086417\n",
      "Probability of given sentence is positive comment 0.7834105263919618\n",
      "Given sentence is a positive comment\n"
     ]
    }
   ],
   "source": [
    "# preprocess given sentence sample\n",
    "comment = 'kelimenin tam anlamıyla başyapıt bir film.'\n",
    "comment = comment.replace('.', '. ', comment.count('.')).replace(',', ', ', comment.count(',')).replace(':', ': ', comment.count(':'))\n",
    "words = comment.split()\n",
    "punct = str.maketrans('', '', string.punctuation)\n",
    "removed = [word.translate(punct) for word in words]\n",
    "words = [word for word in removed if len(word) > 3]\n",
    "words = [word.lower() for word in words]\n",
    "vector = model[words[0]]\n",
    "for word in words:\n",
    "    vector = np.maximum(vector, model[word])\n",
    "\n",
    "# scale given sample vector and predict.\n",
    "vector = vector.reshape(-1,1)\n",
    "vector = discretizer.fit_transform(vector)\n",
    "vector = vector.reshape(1,-1)\n",
    "print(\"Probability of given sentence is negative comment {}\".format(mnb.predict_proba(vector)[0,0]))\n",
    "print(\"Probability of given sentence is positive comment {}\".format(mnb.predict_proba(vector)[0,1]))\n",
    "if(mnb.predict_proba(vector)[0,0] > mnb.predict_proba(vector)[0,1]):\n",
    "    print(\"Given sentence is a negative comment\")\n",
    "else:\n",
    "    print(\"Given sentence is a positive comment\")"
   ]
  },
  {
   "cell_type": "markdown",
   "metadata": {},
   "source": [
    "## Confussion matrices for Gaussian NB and Multinomial NB"
   ]
  },
  {
   "cell_type": "code",
   "execution_count": 101,
   "metadata": {},
   "outputs": [
    {
     "data": {
      "image/png": "[encoded data removed]",
      "text/plain": [
       "<Figure size 432x288 with 2 Axes>"
      ]
     },
     "metadata": {
      "needs_background": "light"
     },
     "output_type": "display_data"
    }
   ],
   "source": [
    "sklearn.metrics.plot_confusion_matrix(gnb, test_set, test_label) \n",
    "plt.savefig('gauss.png')\n",
    "plt.show()"
   ]
  },
  {
   "cell_type": "code",
   "execution_count": 102,
   "metadata": {},
   "outputs": [
    {
     "data": {
      "image/png": "[encoded data removed]",
      "text/plain": [
       "<Figure size 432x288 with 2 Axes>"
      ]
     },
     "metadata": {
      "needs_background": "light"
     },
     "output_type": "display_data"
    }
   ],
   "source": [
    "sklearn.metrics.plot_confusion_matrix(mnb, test_set_discrete, test_label) \n",
    "plt.savefig('multi.png')\n",
    "plt.show()"
   ]
  },
  {
   "cell_type": "code",
   "execution_count": null,
   "metadata": {},
   "outputs": [],
   "source": []
  }
 ],
 "metadata": {
  "kernelspec": {
   "display_name": "Python 3",
   "language": "python",
   "name": "python3"
  },
  "language_info": {
   "codemirror_mode": {
    "name": "ipython",
    "version": 3
   },
   "file_extension": ".py",
   "mimetype": "text/x-python",
   "name": "python",
   "nbconvert_exporter": "python",
   "pygments_lexer": "ipython3",
   "version": "3.9.1"
  }
 },
 "nbformat": 4,
 "nbformat_minor": 4
}
